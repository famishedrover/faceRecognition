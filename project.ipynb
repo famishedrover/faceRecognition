{
 "cells": [
  {
   "cell_type": "code",
   "execution_count": 1,
   "metadata": {
    "collapsed": false
   },
   "outputs": [
    {
     "name": "stderr",
     "output_type": "stream",
     "text": [
      "/usr/local/lib/python2.7/site-packages/matplotlib/font_manager.py:273: UserWarning: Matplotlib is building the font cache using fc-list. This may take a moment.\n",
      "  warnings.warn('Matplotlib is building the font cache using fc-list. This may take a moment.')\n"
     ]
    }
   ],
   "source": [
    "import numpy as np\n",
    "import cv2\n",
    "import matplotlib.pyplot as plt\n",
    "%matplotlib inline\n",
    "import os\n",
    "import time"
   ]
  },
  {
   "cell_type": "code",
   "execution_count": 2,
   "metadata": {
    "collapsed": false
   },
   "outputs": [
    {
     "name": "stdout",
     "output_type": "stream",
     "text": [
      "['.DS_Store', 'Aditya', 'Mudit', 'my_face_data.npy', 'my_face_labels.npy', 'Ritam', 'Sachin', 'Shivam']\n"
     ]
    }
   ],
   "source": [
    "files = os.listdir('./data')\n",
    "print files"
   ]
  },
  {
   "cell_type": "code",
   "execution_count": 31,
   "metadata": {
    "collapsed": false
   },
   "outputs": [
    {
     "name": "stdout",
     "output_type": "stream",
     "text": [
      "['./data/Aditya/im01.jpg', './data/Aditya/im02.jpg', './data/Aditya/im03.jpg', './data/Aditya/im04.jpg', './data/Aditya/im05.jpg', './data/Mudit/eight.jpg', './data/Mudit/five.jpg', './data/Mudit/four.jpg', './data/Mudit/nine.jpg', './data/Mudit/one.jpg', './data/Mudit/seven.jpg', './data/Mudit/six.jpg', './data/Mudit/ten.jpg', './data/Mudit/three.jpg', './data/Mudit/two.jpg', './data/Ritam/eight.JPG', './data/Ritam/five.JPG', './data/Ritam/four.JPG', './data/Ritam/nine.JPG', './data/Ritam/one.JPG', './data/Ritam/seven.JPG', './data/Ritam/six.JPG', './data/Ritam/ten.JPG', './data/Ritam/three.JPG', './data/Ritam/two.JPG', './data/Sachin/sachin1.jpg', './data/Sachin/sachin2.jpg', './data/Sachin/sachin3.jpg', './data/Sachin/sachin4.jpg', './data/Sachin/sachin5.jpg', './data/Shivam/im01.jpg', './data/Shivam/im02.jpg', './data/Shivam/im03.jpg', './data/Shivam/im04.jpg', './data/Shivam/im05.jpg']\n",
      "['Aditya', 'Aditya', 'Aditya', 'Aditya', 'Aditya', 'Mudit', 'Mudit', 'Mudit', 'Mudit', 'Mudit', 'Mudit', 'Mudit', 'Mudit', 'Mudit', 'Mudit', 'Ritam', 'Ritam', 'Ritam', 'Ritam', 'Ritam', 'Ritam', 'Ritam', 'Ritam', 'Ritam', 'Ritam', 'Sachin', 'Sachin', 'Sachin', 'Sachin', 'Sachin', 'Shivam', 'Shivam', 'Shivam', 'Shivam', 'Shivam']\n"
     ]
    }
   ],
   "source": [
    "faces_paths = []\n",
    "labels = []\n",
    "#harcascades  are used to crop in open cv\n",
    "for f in files :\n",
    "    if f == '.DS_Store' or f == 'my_face_data.npy' or f == 'my_face_labels.npy' :\n",
    "            continue \n",
    "    ims = os.listdir('./data/' + f)\n",
    "#     print f , ims\n",
    "    for px in ims :\n",
    "        if px == '.DS_Store' or px == 'my_face_data.npy' or px == 'my_face_labels.npy' :\n",
    "            continue \n",
    "        faces_paths.append('./data/' + f + '/' + px)\n",
    "        labels.append(f)    \n",
    "print faces_paths\n",
    "print labels"
   ]
  },
  {
   "cell_type": "code",
   "execution_count": 32,
   "metadata": {
    "collapsed": false
   },
   "outputs": [
    {
     "name": "stdout",
     "output_type": "stream",
     "text": [
      "35\n"
     ]
    }
   ],
   "source": [
    "imgs = []\n",
    "\n",
    "for fx in faces_paths: \n",
    "    im = cv2.imread(fx)\n",
    "    im = cv2.cvtColor(im , cv2.COLOR_BGR2RGB)\n",
    "    imgs.append(im)\n",
    "    \n",
    "print len(imgs)\n"
   ]
  },
  {
   "cell_type": "code",
   "execution_count": 33,
   "metadata": {
    "collapsed": false
   },
   "outputs": [],
   "source": [
    "#in order of BGR\n",
    "\n",
    "# for ix in range (len(imgs)) :\n",
    "    \n",
    "#     plt.figure(ix)\n",
    "#     plt.imshow(im)\n",
    "# plt.show()"
   ]
  },
  {
   "cell_type": "code",
   "execution_count": 34,
   "metadata": {
    "collapsed": false
   },
   "outputs": [
    {
     "name": "stdout",
     "output_type": "stream",
     "text": [
      "35\n",
      "(35, 10000)\n"
     ]
    }
   ],
   "source": [
    "all_faces = []\n",
    "for i in range (len(imgs)) :\n",
    "#     plt.figure(0)\n",
    "    im = imgs[i][225:550 ,440:740 ,:]\n",
    "#     print im.shape\n",
    "    img = cv2.resize(im , (100,100) )  # resize (img , (col , row))\n",
    "    img = cv2.cvtColor(img , cv2.COLOR_RGB2GRAY)\n",
    "#     print img.shape , '\\n'\n",
    "#     plt.imshow(img , cmap = 'gray')\n",
    "#     plt.show()\n",
    "    img = img.flatten()\n",
    "    \n",
    "    all_faces.append(img)\n",
    "    \n",
    "# convert to np array  \n",
    "test = all_faces[5]\n",
    "test_label = labels[5]\n",
    "\n",
    "all_faces = np.asarray(all_faces)\n",
    "\n",
    "print len(all_faces)\n",
    "print all_faces.shape"
   ]
  },
  {
   "cell_type": "code",
   "execution_count": 35,
   "metadata": {
    "collapsed": false
   },
   "outputs": [
    {
     "name": "stdout",
     "output_type": "stream",
     "text": [
      "(35,)\n"
     ]
    }
   ],
   "source": [
    "lab = np.asarray(labels)\n",
    "print lab.shape\n",
    "\n",
    "np.save('./data/my_face_labels', lab)\n",
    "np.save('./data/my_face_data', all_faces)"
   ]
  },
  {
   "cell_type": "code",
   "execution_count": 36,
   "metadata": {
    "collapsed": false
   },
   "outputs": [],
   "source": [
    "# p = knn(all_faces , labels , test , k = 6 )\n",
    "# print p , test_label "
   ]
  },
  {
   "cell_type": "code",
   "execution_count": 37,
   "metadata": {
    "collapsed": false
   },
   "outputs": [],
   "source": [
    "# all_faces_mean = all_faces.mean(axis = 0)\n",
    "# plt.imshow(all_faces_mean   , cmap = 'gray')\n",
    "# plt.show()"
   ]
  },
  {
   "cell_type": "code",
   "execution_count": 38,
   "metadata": {
    "collapsed": false
   },
   "outputs": [
    {
     "name": "stdout",
     "output_type": "stream",
     "text": [
      "(10000,)\n"
     ]
    }
   ],
   "source": [
    "print all_faces[0].shape"
   ]
  },
  {
   "cell_type": "code",
   "execution_count": 39,
   "metadata": {
    "collapsed": false
   },
   "outputs": [],
   "source": [
    "face = np.load('./data/my_face_data.npy')\n",
    "labels = np.load('./data/my_face_labels.npy')"
   ]
  },
  {
   "cell_type": "code",
   "execution_count": 40,
   "metadata": {
    "collapsed": false
   },
   "outputs": [],
   "source": [
    "# for i in range(0,len(imgs)) :\n",
    "#     print labels[i]\n",
    "#     plt.figure(i)\n",
    "#     face[i] = face[i].reshape((100,100))\n",
    "#     plt.imshow( face[i] , cmap = 'gray')\n",
    "#     plt.show()\n"
   ]
  },
  {
   "cell_type": "code",
   "execution_count": null,
   "metadata": {
    "collapsed": true
   },
   "outputs": [],
   "source": []
  },
  {
   "cell_type": "code",
   "execution_count": null,
   "metadata": {
    "collapsed": true
   },
   "outputs": [],
   "source": []
  }
 ],
 "metadata": {
  "kernelspec": {
   "display_name": "Python 2",
   "language": "python",
   "name": "python2"
  },
  "language_info": {
   "codemirror_mode": {
    "name": "ipython",
    "version": 2
   },
   "file_extension": ".py",
   "mimetype": "text/x-python",
   "name": "python",
   "nbconvert_exporter": "python",
   "pygments_lexer": "ipython2",
   "version": "2.7.13"
  }
 },
 "nbformat": 4,
 "nbformat_minor": 2
}
