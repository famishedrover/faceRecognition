{
 "cells": [
  {
   "cell_type": "code",
   "execution_count": 111,
   "metadata": {
    "collapsed": false
   },
   "outputs": [],
   "source": [
    "import numpy as np\n",
    "import cv2\n",
    "import matplotlib.pyplot as plt\n",
    "%matplotlib inline\n",
    "import os\n",
    "import time"
   ]
  },
  {
   "cell_type": "code",
   "execution_count": 124,
   "metadata": {
    "collapsed": true
   },
   "outputs": [],
   "source": [
    "def dist(x, y, t = 'A') :  \n",
    "    if t == 'A' :\n",
    "        return np.sqrt(((x-y)**2 ).sum())"
   ]
  },
  {
   "cell_type": "code",
   "execution_count": 128,
   "metadata": {
    "collapsed": true
   },
   "outputs": [],
   "source": [
    "def knn (x_train , y_train , x , k = 5) :\n",
    "    vals = []\n",
    "    for ix in range(x_train.shape[0]) :\n",
    "        v = [dist(x , x_train[ix , : ]) , y_train[ix] ]\n",
    "        vals.append(v)\n",
    "    \n",
    "    updated_vals = sorted (vals , key = lambda x : x[0])\n",
    "    pred_arr = np.asarray(updated_vals[:k])\n",
    "#     for numpy.__version__ >= 1.9\n",
    "    pred_arr = np.unique(pred_arr[: , 1], return_counts = True)\n",
    "    pred = pred_arr[1].argmax()\n",
    "    return pred_arr[0][pred] , pred_arr"
   ]
  },
  {
   "cell_type": "code",
   "execution_count": 103,
   "metadata": {
    "collapsed": false
   },
   "outputs": [
    {
     "name": "stdout",
     "output_type": "stream",
     "text": [
      "['.DS_Store', 'Aditya', 'Mudit', 'Sachin', 'Shivam']\n"
     ]
    }
   ],
   "source": [
    "files = os.listdir('./data')\n",
    "print files"
   ]
  },
  {
   "cell_type": "code",
   "execution_count": 104,
   "metadata": {
    "collapsed": false
   },
   "outputs": [
    {
     "name": "stdout",
     "output_type": "stream",
     "text": [
      "['./data/Aditya/im01.jpg', './data/Aditya/im02.jpg', './data/Aditya/im03.jpg', './data/Aditya/im04.jpg', './data/Aditya/im05.jpg', './data/Mudit/five.jpg', './data/Mudit/four.jpg', './data/Mudit/one.jpg', './data/Mudit/three.jpg', './data/Mudit/two.jpg', './data/Sachin/sachin1.jpg', './data/Sachin/sachin2.jpg', './data/Sachin/sachin3.jpg', './data/Sachin/sachin4.jpg', './data/Sachin/sachin5.jpg', './data/Shivam/im01.jpg', './data/Shivam/im02.jpg', './data/Shivam/im03.jpg', './data/Shivam/im04.jpg', './data/Shivam/im05.jpg']\n",
      "['Aditya', 'Aditya', 'Aditya', 'Aditya', 'Aditya', 'Mudit', 'Mudit', 'Mudit', 'Mudit', 'Mudit', 'Sachin', 'Sachin', 'Sachin', 'Sachin', 'Sachin', 'Shivam', 'Shivam', 'Shivam', 'Shivam', 'Shivam']\n"
     ]
    }
   ],
   "source": [
    "faces_paths = []\n",
    "labels = []\n",
    "#harcascades  are used to crop in open cv\n",
    "for f in files :\n",
    "    if f == '.DS_Store' :\n",
    "        continue \n",
    "    ims = os.listdir('./data/' + f)\n",
    "#     print f , ims\n",
    "    for px in ims :\n",
    "        if px == '.DS_Store' :\n",
    "            continue \n",
    "        faces_paths.append('./data/' + f + '/' + px)\n",
    "        labels.append(f)    \n",
    "print faces_paths\n",
    "print labels"
   ]
  },
  {
   "cell_type": "code",
   "execution_count": 105,
   "metadata": {
    "collapsed": false
   },
   "outputs": [
    {
     "name": "stdout",
     "output_type": "stream",
     "text": [
      "20\n"
     ]
    }
   ],
   "source": [
    "imgs = []\n",
    "\n",
    "for fx in faces_paths:\n",
    "    \n",
    "    im = cv2.imread(fx)\n",
    "    im = cv2.cvtColor(im , cv2.COLOR_BGR2RGB)\n",
    "    imgs.append(im)\n",
    "    \n",
    "print len(imgs)\n"
   ]
  },
  {
   "cell_type": "code",
   "execution_count": 49,
   "metadata": {
    "collapsed": false
   },
   "outputs": [],
   "source": [
    "#in order of BGR\n",
    "\n",
    "# for ix in range (len(imgs)) :\n",
    "    \n",
    "#     plt.figure(ix)\n",
    "#     plt.imshow(im)\n",
    "# plt.show()"
   ]
  },
  {
   "cell_type": "code",
   "execution_count": 138,
   "metadata": {
    "collapsed": false
   },
   "outputs": [
    {
     "name": "stdout",
     "output_type": "stream",
     "text": [
      "20\n",
      "(20, 100, 100)\n"
     ]
    }
   ],
   "source": [
    "all_faces = []\n",
    "for i in range (0,20) :\n",
    "#     plt.figure(0)\n",
    "    im = imgs[i][225:550 ,440:740 ,:]\n",
    "#     print im.shape\n",
    "    img = cv2.resize(im , (100,100) )  # resize (img , (col , row))\n",
    "    img = cv2.cvtColor(img , cv2.COLOR_RGB2GRAY)\n",
    "#     print img.shape , '\\n'\n",
    "#     plt.imshow(img , cmap = 'gray')\n",
    "#     plt.show()\n",
    "    all_faces.append(img)\n",
    "    \n",
    "# convert to np array  \n",
    "test = all_faces[5]\n",
    "test_label = labels[5]\n",
    "\n",
    "all_faces = np.asarray(all_faces)\n",
    "\n",
    "print len(all_faces)\n",
    "print all_faces.shape"
   ]
  },
  {
   "cell_type": "code",
   "execution_count": 139,
   "metadata": {
    "collapsed": false
   },
   "outputs": [
    {
     "name": "stdout",
     "output_type": "stream",
     "text": [
      "(20,)\n"
     ]
    }
   ],
   "source": [
    "lab = np.asarray(labels)\n",
    "print lab.shape\n",
    "\n",
    "np.save('./data/my_face_labels', lab)\n",
    "np.save('./data/my_face_data', all_faces)"
   ]
  },
  {
   "cell_type": "code",
   "execution_count": 143,
   "metadata": {
    "collapsed": false
   },
   "outputs": [],
   "source": [
    "# p = knn(all_faces , labels , test , k = 6 )\n",
    "# print p , test_label "
   ]
  },
  {
   "cell_type": "code",
   "execution_count": 142,
   "metadata": {
    "collapsed": false
   },
   "outputs": [],
   "source": [
    "# all_faces_mean = all_faces.mean(axis = 0)\n",
    "# plt.imshow(all_faces_mean   , cmap = 'gray')\n",
    "# plt.show()"
   ]
  },
  {
   "cell_type": "code",
   "execution_count": null,
   "metadata": {
    "collapsed": true
   },
   "outputs": [],
   "source": []
  }
 ],
 "metadata": {
  "kernelspec": {
   "display_name": "Python 2",
   "language": "python",
   "name": "python2"
  },
  "language_info": {
   "codemirror_mode": {
    "name": "ipython",
    "version": 2
   },
   "file_extension": ".py",
   "mimetype": "text/x-python",
   "name": "python",
   "nbconvert_exporter": "python",
   "pygments_lexer": "ipython2",
   "version": "2.7.13"
  }
 },
 "nbformat": 4,
 "nbformat_minor": 2
}
