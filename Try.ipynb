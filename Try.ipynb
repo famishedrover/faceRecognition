{
 "cells": [
  {
   "cell_type": "code",
   "execution_count": 69,
   "metadata": {
    "collapsed": true
   },
   "outputs": [],
   "source": [
    "import os\n",
    "import numpy as np\n"
   ]
  },
  {
   "cell_type": "code",
   "execution_count": 64,
   "metadata": {
    "collapsed": false
   },
   "outputs": [
    {
     "name": "stdout",
     "output_type": "stream",
     "text": [
      "['.DS_Store', 'Aditya', 'Mudit', 'my_face_data.npy', 'my_face_labels.npy', 'Ritam', 'Sachin', 'Shivam']\n"
     ]
    }
   ],
   "source": [
    "files = os.listdir('./data')\n",
    "print files"
   ]
  },
  {
   "cell_type": "code",
   "execution_count": 65,
   "metadata": {
    "collapsed": false
   },
   "outputs": [
    {
     "name": "stdout",
     "output_type": "stream",
     "text": [
      "<type 'str'>\n"
     ]
    }
   ],
   "source": [
    "files =  os.walk('./data').next()[1]\n",
    "print type(directories[0])"
   ]
  },
  {
   "cell_type": "code",
   "execution_count": 66,
   "metadata": {
    "collapsed": false
   },
   "outputs": [
    {
     "data": {
      "text/plain": [
       "['./data/Aditya/im01.jpg',\n",
       " './data/Aditya/im02.jpg',\n",
       " './data/Aditya/im03.jpg',\n",
       " './data/Aditya/im04.jpg',\n",
       " './data/Aditya/im05.jpg',\n",
       " './data/Mudit/im01.jpg',\n",
       " './data/Mudit/im02.jpg',\n",
       " './data/Mudit/im03.jpg',\n",
       " './data/Mudit/im04.jpg',\n",
       " './data/Mudit/im05.jpg',\n",
       " './data/Mudit/im06.jpg',\n",
       " './data/Mudit/im07.jpg',\n",
       " './data/Mudit/im08.jpg',\n",
       " './data/Mudit/im09.jpg',\n",
       " './data/Mudit/im10.jpg',\n",
       " './data/Ritam/im01.JPG',\n",
       " './data/Ritam/im02.JPG',\n",
       " './data/Ritam/im03.JPG',\n",
       " './data/Ritam/im04.JPG',\n",
       " './data/Ritam/im05.JPG',\n",
       " './data/Ritam/im06.JPG',\n",
       " './data/Ritam/im07.JPG',\n",
       " './data/Ritam/im08.JPG',\n",
       " './data/Ritam/im09.JPG',\n",
       " './data/Ritam/im10.JPG',\n",
       " './data/Sachin/im01.jpg',\n",
       " './data/Sachin/im02.jpg',\n",
       " './data/Sachin/im03.jpg',\n",
       " './data/Sachin/im04.jpg',\n",
       " './data/Sachin/im05.jpg',\n",
       " './data/Shivam/im01.jpg',\n",
       " './data/Shivam/im02.jpg',\n",
       " './data/Shivam/im03.jpg',\n",
       " './data/Shivam/im04.jpg',\n",
       " './data/Shivam/im05.jpg']"
      ]
     },
     "execution_count": 66,
     "metadata": {},
     "output_type": "execute_result"
    }
   ],
   "source": [
    "faces_paths = []\n",
    "labels = []\n",
    "#harcascades  are used to crop in open cv\n",
    "for f in files :\n",
    "    ims = os.listdir('./data/' + f)\n",
    "#     print f , ims\n",
    "    for px in ims :\n",
    "#         if px == '.DS_Store' :\n",
    "#             continue\n",
    "        if '.jpg' not in px and '.JPG' not in px:\n",
    "            continue\n",
    "        faces_paths.append('./data/' + f + '/' + px)\n",
    "        labels.append(f)    \n",
    "faces_paths"
   ]
  },
  {
   "cell_type": "code",
   "execution_count": 68,
   "metadata": {
    "collapsed": false
   },
   "outputs": [
    {
     "name": "stdout",
     "output_type": "stream",
     "text": [
      "['.DS_Store', 'im01.JPG', 'im02.JPG', 'im03.JPG', 'im04.JPG', 'im05.JPG', 'im06.JPG', 'im07.JPG', 'im08.JPG', 'im09.JPG', 'im10.JPG']\n"
     ]
    }
   ],
   "source": [
    "ims = os.listdir('./data/' +files[2])\n",
    "print ims"
   ]
  },
  {
   "cell_type": "code",
   "execution_count": 81,
   "metadata": {
    "collapsed": false
   },
   "outputs": [],
   "source": [
    "# np.save?"
   ]
  },
  {
   "cell_type": "code",
   "execution_count": null,
   "metadata": {
    "collapsed": false
   },
   "outputs": [],
   "source": []
  },
  {
   "cell_type": "code",
   "execution_count": null,
   "metadata": {
    "collapsed": true
   },
   "outputs": [],
   "source": []
  }
 ],
 "metadata": {
  "kernelspec": {
   "display_name": "Python 2",
   "language": "python",
   "name": "python2"
  },
  "language_info": {
   "codemirror_mode": {
    "name": "ipython",
    "version": 2
   },
   "file_extension": ".py",
   "mimetype": "text/x-python",
   "name": "python",
   "nbconvert_exporter": "python",
   "pygments_lexer": "ipython2",
   "version": "2.7.13"
  }
 },
 "nbformat": 4,
 "nbformat_minor": 2
}
